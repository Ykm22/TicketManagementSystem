{
 "cells": [
  {
   "cell_type": "markdown",
   "metadata": {},
   "source": [
    "### Initializing connection"
   ]
  },
  {
   "cell_type": "code",
   "execution_count": 1,
   "metadata": {},
   "outputs": [],
   "source": [
    "import pyodbc\n",
    "\n",
    "server = 'ICHIM\\SQLEXPRESS03'\n",
    "database = 'TicketManagementSystem'\n",
    "username = ''\n",
    "password = ''\n",
    "\n",
    "connection_string = f'DRIVER={{SQL Server}};SERVER={server};DATABASE={database};UID={username};PWD={password}'\n",
    "\n",
    "conn = pyodbc.connect(connection_string)"
   ]
  },
  {
   "cell_type": "markdown",
   "metadata": {},
   "source": [
    "### Populating Users table with names from data/names/US.csv\n",
    "Made up email through combination of first_last names + random @, with random age <br/>\n",
    "Password random amount of length, last 2 always numbers <br/>\n",
    "Conjured up a salt for each, used SHA2_256 hashing method <br/>"
   ]
  },
  {
   "cell_type": "code",
   "execution_count": null,
   "metadata": {},
   "outputs": [],
   "source": [
    "cursor = conn.cursor()\n",
    "cursor.execute('SELECT * FROM Users')\n",
    "\n",
    "column_names = [column[0] for column in cursor.description]\n",
    "print(column_names)\n",
    "\n",
    "results = cursor.fetchall()\n",
    "for row in results[:3]:\n",
    "    print(row)"
   ]
  },
  {
   "cell_type": "markdown",
   "metadata": {},
   "source": [
    "#### Data reading"
   ]
  },
  {
   "cell_type": "code",
   "execution_count": 72,
   "metadata": {},
   "outputs": [],
   "source": [
    "import pandas as pd\n",
    "\n",
    "# Names from the United States\n",
    "us_names_path = 'data/names/US.csv'\n",
    "column_names = ['First Name', 'Last Name', 'Gender', 'Country']\n",
    "\n",
    "df = pd.read_csv(us_names_path, names=column_names)"
   ]
  },
  {
   "cell_type": "markdown",
   "metadata": {},
   "source": [
    "#### Filtering + Save"
   ]
  },
  {
   "cell_type": "code",
   "execution_count": null,
   "metadata": {},
   "outputs": [],
   "source": [
    "import random\n",
    "import re\n",
    "import uuid\n",
    "import string\n",
    "import hashlib\n",
    "import os\n",
    "import csv\n",
    "\n",
    "def has_arabic_characters(text):\n",
    "    # if reading wrong from dataset, happens!\n",
    "    if(type(text)) == float:\n",
    "        return True\n",
    "    \n",
    "    arabic_pattern = re.compile(r'[\\u0600-\\u06FF\\u0750-\\u077F\\u08A0-\\u08FF\\uFB50-\\uFDFF\\uFE70-\\uFEFF]')\n",
    "    return bool(arabic_pattern.search(text))\n",
    "\n",
    "def generate_password(length):\n",
    "    letter_sequence = ''\n",
    "    for _ in range(length - 2):\n",
    "        letter_sequence += random.choice(string.ascii_letters)\n",
    "\n",
    "    number_sequence = ''\n",
    "    for _ in range(2):\n",
    "        number_sequence += str(random.randint(0, 9))\n",
    "    return letter_sequence + number_sequence\n",
    "\n",
    "def has_nan(user):\n",
    "    if type(user['ID']) != uuid.UUID:\n",
    "        return True\n",
    "    if type(user['Email']) != str:\n",
    "        return True\n",
    "    if type(user['PasswordHash']) != str:\n",
    "        return True\n",
    "    if type(user['Salt']) != uuid.UUID:\n",
    "        return True\n",
    "    if type(user['Sex']) != str:\n",
    "        return True\n",
    "    if type(user['Age']) != int:\n",
    "        return True\n",
    "    if type(user['IsCustomer']) != int:\n",
    "        return True\n",
    "    \n",
    "\n",
    "def in_table(email, cursor):\n",
    "    select_query = f\"SELECT * FROM Users WHERE Email = ?\"\n",
    "    cursor.execute(select_query, (email,))\n",
    "    rows = cursor.fetchall()\n",
    "    if rows:\n",
    "        # entry found\n",
    "        return True\n",
    "    return False\n",
    "\n",
    "def save_user(user, conn, cursor):\n",
    "    if has_nan(user) or in_table(user['Email'], cursor):\n",
    "        return\n",
    "    \n",
    "    insert_query = f\"INSERT INTO Users (ID, Email, PasswordHash, Salt, Sex, Age, IsCustomer) VALUES (?, ?, ?, ?, ?, ?, ?)\"\n",
    "    cursor.execute(insert_query, (\n",
    "        user['ID'], user['Email'], user['PasswordHash'], user['Salt'], user['Sex'], user['Age'], user['IsCustomer']\n",
    "    ))\n",
    "    conn.commit()\n",
    "\n",
    "\n",
    "user_credentials_list = []\n",
    "emails = ['@gmail.com', '@yahoo.com', '@hotmail.com', '@outlook.com']\n",
    "print(['ID', 'Email', 'PasswordHash', 'Salt', 'Sex', 'Age', 'IsCustomer'])\n",
    "for index, row in df[10005:20000].iterrows():\n",
    "    first_name = row['First Name']\n",
    "    last_name = row['Last Name']\n",
    "\n",
    "    # filter out arabic names\n",
    "    if has_arabic_characters(first_name) == False and has_arabic_characters(last_name) == False:\n",
    "        gender = row['Gender']\n",
    "        age = random.randint(5, 65)\n",
    "\n",
    "        random_email_finisher = random.choice(emails)\n",
    "        email = first_name + '_' + last_name + random_email_finisher\n",
    "\n",
    "        salt = uuid.uuid4()\n",
    "\n",
    "        password_length = random.randint(5, 15)\n",
    "        password = generate_password(15)\n",
    "        password_hash = hashlib.sha256(password.encode() + str(salt).encode()).hexdigest()\n",
    "\n",
    "        IsCustomer = 1\n",
    "        \n",
    "        ID = uuid.uuid4()\n",
    "\n",
    "        user_credentials = [email, password]\n",
    "        user_credentials_list.append(user_credentials)\n",
    "\n",
    "        user = {\n",
    "            'ID': ID,\n",
    "            'Email' : email,\n",
    "            'PasswordHash' : password_hash,\n",
    "            'Salt' : salt,\n",
    "            'Sex' : gender,\n",
    "            'Age' : age,\n",
    "            'IsCustomer' : IsCustomer\n",
    "        }\n",
    "\n",
    "        save_user(user, conn, cursor)\n",
    "\n",
    "save_credentials_path = 'data/credentials/user_credentials.csv'\n",
    "with open(save_credentials_path, 'w', newline='', encoding='utf-8') as csvfile:\n",
    "    writer = csv.writer(csvfile)\n",
    "    writer.writerow((['Email', 'Password']))\n",
    "    print(user_credentials_list)\n",
    "    writer.writerows(user_credentials_list)\n",
    "        "
   ]
  },
  {
   "cell_type": "markdown",
   "metadata": {},
   "source": [
    "### Populating Venues table with bigger variety of types"
   ]
  },
  {
   "cell_type": "code",
   "execution_count": null,
   "metadata": {},
   "outputs": [],
   "source": [
    "cursor = conn.cursor()\n",
    "cursor.execute('SELECT * FROM Venues')\n",
    "\n",
    "column_names = [column[0] for column in cursor.description]\n",
    "print(column_names)\n",
    "\n",
    "results = cursor.fetchall()\n",
    "for row in results[:3]:\n",
    "    print(row)"
   ]
  },
  {
   "cell_type": "code",
   "execution_count": 139,
   "metadata": {},
   "outputs": [
    {
     "name": "stdout",
     "output_type": "stream",
     "text": [
      "Conference Center 500\n",
      "University 800\n",
      "Ballroom 100\n",
      "Theater 350\n"
     ]
    }
   ],
   "source": [
    "venue_types = [\n",
    "    'Conference Center',\n",
    "    'University',\n",
    "    'Ballroom',\n",
    "    'Theater'\n",
    "]\n",
    "capacities = [\n",
    "    500, 800, 100, 350, 200, 400, 450, 300, 250, 1000, 850, 870\n",
    "]\n",
    "\n",
    "for i in range(len(venue_types)):\n",
    "    print(venue_types[i] + \" \" + str(capacities[i]))\n",
    "    \n"
   ]
  },
  {
   "cell_type": "code",
   "execution_count": null,
   "metadata": {},
   "outputs": [],
   "source": [
    "def save_venue(venue, conn, cursor):\n",
    "    insert_query = f\"INSERT INTO Venues (ID, Location, Type, Capacity, PricePerHour) VALUES (?, ?, ?, ?, ?)\"\n",
    "    cursor.execute(insert_query, (\n",
    "        venue['ID'], venue['Location'], venue['Type'], venue['Capacity'], venue['PricePerHour']\n",
    "    ))\n",
    "    conn.commit()\n",
    "\n",
    "locations = ['Cluj-Napoca', 'Iasi', 'Bucuresti', 'Salzburg', 'Zurich', 'Geneva', 'Venetia', 'Berlin', 'London', 'Yorkshire', 'Liverpool',\n",
    "             'Timisoara', 'Munich', 'Dublin', 'Paris', 'Lyon', 'Barcelona', 'Sevilla']\n",
    "prices_per_hour = [\n",
    "    100.30, 180.20, 80.10, 50.99, 51.00, 55.00, 80.00, 25.99, 28.00\n",
    "]\n",
    "for i in range(50):\n",
    "    venue = {\n",
    "        'ID' : uuid.uuid4(),\n",
    "        'Location' : random.choice(locations),\n",
    "        'Type' : random.choice(venue_types),\n",
    "        'Capacity' : random.choice(capacities),\n",
    "        'PricePerHour' : random.choice(prices_per_hour)\n",
    "    }\n",
    "    save_venue(venue, conn, cursor)"
   ]
  },
  {
   "cell_type": "markdown",
   "metadata": {},
   "source": [
    "### Populating EventTypes table with bigger variety of types"
   ]
  },
  {
   "cell_type": "code",
   "execution_count": null,
   "metadata": {},
   "outputs": [],
   "source": [
    "cursor = conn.cursor()\n",
    "cursor.execute('SELECT * FROM EventTypes')\n",
    "\n",
    "column_names = [column[0] for column in cursor.description]\n",
    "print(column_names)\n",
    "\n",
    "results = cursor.fetchall()\n",
    "for row in results[:3]:\n",
    "    print(row)"
   ]
  },
  {
   "cell_type": "code",
   "execution_count": 148,
   "metadata": {},
   "outputs": [],
   "source": [
    "conference_center_event_names = [\n",
    "    'Convention', 'Seminar', 'Workshop', 'Expo', 'Business networking'\n",
    "]\n",
    "\n",
    "ballroom_event_names = [\n",
    "    'Wedding', 'Gala', 'Award Ceremony', 'Fashion Show'\n",
    "]\n",
    "\n",
    "theater_event_names = [\n",
    "    'Play', 'Musical', 'Opera', 'Dance Performance', 'Stand-up Performance', 'Comedy-Show'\n",
    "]\n",
    "\n",
    "university_event_names = [\n",
    "    'Academic Lecture', 'Presentation', 'Guest Speaker', 'Student Performance', 'Training Program', 'Graduation Ceremony'\n",
    "]"
   ]
  },
  {
   "cell_type": "code",
   "execution_count": 151,
   "metadata": {},
   "outputs": [],
   "source": [
    "def save_event_names(event_names, conn, cursor):\n",
    "    for event_name in event_names:\n",
    "        insert_query = f\"INSERT INTO EventTypes (ID, Name) VALUES (?, ?)\"\n",
    "        cursor.execute(insert_query, (\n",
    "            uuid.uuid4(), event_name    \n",
    "        ))\n",
    "        conn.commit()\n",
    "save_event_names(conference_center_event_names, conn, cursor)\n",
    "save_event_names(ballroom_event_names, conn, cursor)\n",
    "save_event_names(theater_event_names, conn, cursor)\n",
    "save_event_names(university_event_names, conn, cursor)"
   ]
  },
  {
   "cell_type": "markdown",
   "metadata": {},
   "source": [
    "### Populating Events table"
   ]
  },
  {
   "cell_type": "code",
   "execution_count": null,
   "metadata": {},
   "outputs": [],
   "source": [
    "import datetime\n",
    "\n",
    "cursor = conn.cursor()\n",
    "cursor.execute('SELECT * FROM EventTypes')\n",
    "\n",
    "column_names = [column[0] for column in cursor.description]\n",
    "\n",
    "years = [\n",
    "    2018, 2019, 2020, 2021, 2022, 2023\n",
    "]\n",
    "\n",
    "def get_dates(year):\n",
    "    month = random.randint(1, 12)\n",
    "    start_day = random.randint(1, 24)\n",
    "    end_day = start_day + random.randint(1, 4)\n",
    "\n",
    "    start_date = datetime.datetime(year, month, start_day)\n",
    "    end_date = datetime.datetime(year, month, end_day)\n",
    "    \n",
    "    return start_date, end_date\n",
    "\n",
    "# description si name nu am destula imaginatie x)\n",
    "def save_event(ID_eventtype, event_type, description, name):\n",
    "    query = \"SELECT * FROM Venues WHERE Type = ?\"\n",
    "    cursor.execute(query, (event_type))\n",
    "    venues = cursor.fetchall()\n",
    "\n",
    "    for _ in range(random.randint(5, 15)):\n",
    "        for year in years:\n",
    "            start_date, end_date = get_dates(year)\n",
    "            random_venue = random.choice(venues)\n",
    "\n",
    "            # print(ID_eventtype, random_venue, start_date, end_date)\n",
    "            print(random_venue[0], ID_eventtype, description, name, start_date, end_date)\n",
    "\n",
    "            insert_query = \"INSERT INTO Events (ID, Venue_ID, EventType_ID, Description, Name, StartDate, EndDate) VALUES (?, ?, ?, ?, ?, ?, ?)\"\n",
    "            cursor.execute(insert_query,\n",
    "                        (uuid.uuid4(), random_venue[0], ID_eventtype, description, name, start_date, end_date)\n",
    "            )\n",
    "            conn.commit()\n",
    "\n",
    "event_types = cursor.fetchall()\n",
    "for row in event_types:\n",
    "    ID_eventtype = row[0]\n",
    "    event_name = row[1]\n",
    "    if event_name in conference_center_event_names:\n",
    "        save_event(ID_eventtype, 'Conference Center', event_name, event_name)\n",
    "    if event_name in ballroom_event_names:\n",
    "        save_event(ID_eventtype, 'Ballroom', event_name, event_name)\n",
    "    if event_name in theater_event_names:\n",
    "        save_event(ID_eventtype, 'Theater', event_name, event_name)\n",
    "    if event_name in university_event_names:\n",
    "        save_event(ID_eventtype, 'University', event_name, event_name)"
   ]
  },
  {
   "cell_type": "markdown",
   "metadata": {},
   "source": [
    "### Populating TicketCategories table"
   ]
  },
  {
   "cell_type": "code",
   "execution_count": null,
   "metadata": {},
   "outputs": [],
   "source": [
    "cursor = conn.cursor()\n",
    "cursor.execute('SELECT * FROM Events')\n",
    "\n",
    "events = cursor.fetchall()\n",
    "\n",
    "vip_prices = [\n",
    "    1000, 1100, 1200, 1300, 1400, 1500, 1150, 1250, 1350, 2000, 2500\n",
    "]\n",
    "\n",
    "standard_prices = [\n",
    "    100, 200, 300, 400, 500, 700, 150, 250, 350, 450\n",
    "]\n",
    "\n",
    "def save_ticket(Event_ID, description, price, cursor, conn):\n",
    "    print(description, price)\n",
    "    insert_query = \"INSERT INTO TicketCategories (ID, Event_ID, Description, Price) VALUES (?, ?, ?, ?)\"\n",
    "    \n",
    "    cursor.execute(insert_query,\n",
    "        (uuid.uuid4(), Event_ID, description, price)\n",
    "    )   \n",
    "    conn.commit()\n",
    "\n",
    "\n",
    "for event in events:\n",
    "    if random.random() > 0.4:\n",
    "        save_ticket(event[0], 'VIP', random.choice(vip_prices), cursor, conn)\n",
    "    save_ticket(event[0], 'Standard', random.choice(standard_prices), cursor, conn)"
   ]
  },
  {
   "cell_type": "markdown",
   "metadata": {},
   "source": [
    "### Populating Orders table"
   ]
  },
  {
   "cell_type": "code",
   "execution_count": 14,
   "metadata": {},
   "outputs": [],
   "source": [
    "import random\n",
    "import datetime\n",
    "import uuid\n",
    "cursor = conn.cursor()\n",
    "cursor.execute('SELECT * FROM Users')\n",
    "\n",
    "users = cursor.fetchall()\n",
    "\n",
    "def save_order(user_id, ticket_description, cursor, conn):\n",
    "    query = F\"SELECT * FROM TicketCategories WHERE Description = ?\"\n",
    "    cursor.execute(query, (ticket_description,))\n",
    "\n",
    "    ticketcategories = cursor.fetchall()\n",
    "    for no_tickets in range(random.randint(5, 10)):\n",
    "        ticket = random.choice(ticketcategories)\n",
    "\n",
    "        NumberOfTickets = random.randint(3, 10)\n",
    "        TotalPrice = NumberOfTickets * ticket[3]\n",
    "\n",
    "        insert_query = F\"INSERT INTO Orders (ID, User_ID, TicketCategories_ID, OrderedAt, NumberOfTickets, TotalPrice) VALUES (?, ?, ?, ?, ?, ?)\"\n",
    "        cursor.execute(insert_query,\n",
    "            (uuid.uuid4(), user_id, ticket[0], datetime.datetime.now(), NumberOfTickets, TotalPrice)\n",
    "        )\n",
    "        conn.commit()\n",
    "\n",
    "for user in users[3:]:\n",
    "    if random.random() < 0.7:\n",
    "        save_order(user[0], 'Standard', cursor, conn)\n",
    "    else:\n",
    "        save_order(user[0], 'VIP', cursor, conn)"
   ]
  }
 ],
 "metadata": {
  "kernelspec": {
   "display_name": "Python 3",
   "language": "python",
   "name": "python3"
  },
  "language_info": {
   "codemirror_mode": {
    "name": "ipython",
    "version": 3
   },
   "file_extension": ".py",
   "mimetype": "text/x-python",
   "name": "python",
   "nbconvert_exporter": "python",
   "pygments_lexer": "ipython3",
   "version": "3.10.11"
  },
  "orig_nbformat": 4
 },
 "nbformat": 4,
 "nbformat_minor": 2
}
