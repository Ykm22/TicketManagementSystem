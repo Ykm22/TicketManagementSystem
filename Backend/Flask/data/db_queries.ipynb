{
 "cells": [
  {
   "cell_type": "markdown",
   "metadata": {},
   "source": [
    "### Initializing connection"
   ]
  },
  {
   "cell_type": "code",
   "execution_count": 2,
   "metadata": {},
   "outputs": [],
   "source": [
    "import pyodbc\n",
    "\n",
    "server = 'ICHIM\\SQLEXPRESS03'\n",
    "database = 'TicketManagementSystem'\n",
    "username = ''\n",
    "password = ''\n",
    "\n",
    "connection_string = f'DRIVER={{SQL Server}};SERVER={server};DATABASE={database};UID={username};PWD={password}'\n",
    "\n",
    "conn = pyodbc.connect(connection_string)"
   ]
  },
  {
   "cell_type": "markdown",
   "metadata": {},
   "source": [
    "### Queries"
   ]
  },
  {
   "cell_type": "markdown",
   "metadata": {},
   "source": [
    "#### Selecting events from a given year and month"
   ]
  },
  {
   "cell_type": "code",
   "execution_count": 4,
   "metadata": {},
   "outputs": [
    {
     "name": "stdout",
     "output_type": "stream",
     "text": [
      "ID StartDate EndDate\n",
      "('1C44D0CC-1076-4810-9AD7-488ACDFB24F6', 'FB07A381-0862-4CF5-9555-BE325FF20676', '53C153DE-9FA2-4137-8AD7-B82A7274FE67', 'Business networking', 'Business networking', datetime.datetime(2023, 12, 15, 0, 0), datetime.datetime(2023, 12, 19, 0, 0), 0)\n",
      "19\n",
      "EC4A95F4-BC7B-4F6B-BADE-31B7925C756B 2023-12-07 00:00:00 2023-12-11 00:00:00\n",
      "1C44D0CC-1076-4810-9AD7-488ACDFB24F6 2023-12-15 00:00:00 2023-12-19 00:00:00\n",
      "6CE02BA1-13A3-4938-89E5-4E7A6941056D 2023-12-17 00:00:00 2023-12-21 00:00:00\n",
      "322649ED-0673-4532-BDE7-4EC3919D7C14 2023-12-08 00:00:00 2023-12-12 00:00:00\n",
      "39B97750-6F8F-4BAD-A9E0-57B9DBA007D3 2023-12-05 00:00:00 2023-12-08 00:00:00\n",
      "5FE3FE57-077D-49A8-A679-6DB9455DFE6A 2023-12-17 00:00:00 2023-12-21 00:00:00\n",
      "0C258DFE-F9CC-4DDF-9626-8326EB8D017F 2023-12-11 00:00:00 2023-12-14 00:00:00\n",
      "3F69AFB0-9589-454F-AE48-88B5A9DD6BF6 2023-12-24 00:00:00 2023-12-27 00:00:00\n",
      "A8D450C5-88A7-4656-8E81-94005F603228 2023-12-15 00:00:00 2023-12-17 00:00:00\n",
      "90177A76-7CB5-4825-B9C3-AB4C0C4E61D0 2023-12-23 00:00:00 2023-12-26 00:00:00\n"
     ]
    }
   ],
   "source": [
    "cursor = conn.cursor()\n",
    "def get_events_by_year_month(year, month):\n",
    "    query = 'SELECT * FROM Events WHERE YEAR(StartDate) = ? AND MONTH(StartDate) = ?'\n",
    "    \n",
    "    cursor.execute(query, (year, month))\n",
    "\n",
    "    column_names = [column[0] for column in cursor.description]\n",
    "    print(column_names[0], column_names[5], column_names[6])\n",
    "\n",
    "    events = cursor.fetchall()\n",
    "    return events\n",
    "\n",
    "events = get_events_by_year_month(2023, 12)\n",
    "print(events[1])\n",
    "print(len(events))\n",
    "for event in events[:10]:\n",
    "    print(event[0], event[5], event[6])"
   ]
  },
  {
   "cell_type": "markdown",
   "metadata": {},
   "source": [
    "#### Get final winnings of an event"
   ]
  },
  {
   "cell_type": "code",
   "execution_count": 58,
   "metadata": {},
   "outputs": [],
   "source": [
    "cursor = conn.cursor()\n",
    "def get_ticket_categories_for_event(event):\n",
    "    query = 'SELECT * FROM TicketCategories WHERE Event_ID = ?'\n",
    "    cursor.execute(query, (event[0]))\n",
    "    ticket_categories = cursor.fetchall()\n",
    "    return ticket_categories\n",
    "\n",
    "def get_total_winnings_for_event(event):\n",
    "    ticket_categories = get_ticket_categories_for_event(event)\n",
    "    winnings = 0\n",
    "    for ticket_category in ticket_categories:\n",
    "        query = 'SELECT * FROM Orders WHERE TicketCategories_ID = ?'\n",
    "        cursor.execute(query, (ticket_category[0]))\n",
    "        orders = cursor.fetchall()\n",
    "        for order in orders:\n",
    "            winnings += order[5]\n",
    "    return winnings\n",
    "\n",
    "def get_hours_for_event(event):\n",
    "    start_date = event[5]\n",
    "    end_date = event[6]\n",
    "    time_difference = end_date - start_date\n",
    "    total_hours = time_difference.days * 24 + time_difference.seconds // 3600\n",
    "    return total_hours\n",
    "\n",
    "def get_price_per_hour_for_event(event):\n",
    "    query = 'SELECT PricePerHour FROM Venues WHERE ID = ?'\n",
    "    cursor.execute(query, (event[1]))\n",
    "    return cursor.fetchone()\n",
    "\n",
    "def get_total_cost_for_event(event):\n",
    "    hours = get_hours_for_event(event)\n",
    "    price_per_hour = get_price_per_hour_for_event(event)[0] # first column of entry\n",
    "    return hours * price_per_hour\n",
    "\n",
    "def get_final_winnings_for_event(event):\n",
    "    cost = get_total_cost_for_event(event)\n",
    "    winnings = get_total_winnings_for_event(event)\n",
    "    return winnings - cost"
   ]
  },
  {
   "cell_type": "code",
   "execution_count": 61,
   "metadata": {},
   "outputs": [
    {
     "name": "stdout",
     "output_type": "stream",
     "text": [
      "Event: EC4A95F4-BC7B-4F6B-BADE-31B7925C756B, Total Winnings: 121500, Cost: 2688.00, Final Winnings: 118812.00\n",
      "Event: 1C44D0CC-1076-4810-9AD7-488ACDFB24F6, Total Winnings: 209400, Cost: 4896.00, Final Winnings: 204504.00\n",
      "Event: 6CE02BA1-13A3-4938-89E5-4E7A6941056D, Total Winnings: 306900, Cost: 4896.00, Final Winnings: 302004.00\n",
      "Event: 322649ED-0673-4532-BDE7-4EC3919D7C14, Total Winnings: 322500, Cost: 17299.20, Final Winnings: 305200.80\n",
      "Event: 39B97750-6F8F-4BAD-A9E0-57B9DBA007D3, Total Winnings: 86850, Cost: 3672.00, Final Winnings: 83178.00\n",
      "Event: 5FE3FE57-077D-49A8-A679-6DB9455DFE6A, Total Winnings: 276950, Cost: 4895.04, Final Winnings: 272054.96\n",
      "Event: 0C258DFE-F9CC-4DDF-9626-8326EB8D017F, Total Winnings: 176650, Cost: 7221.60, Final Winnings: 169428.40\n",
      "Event: 3F69AFB0-9589-454F-AE48-88B5A9DD6BF6, Total Winnings: 97650, Cost: 5767.20, Final Winnings: 91882.80\n",
      "Event: A8D450C5-88A7-4656-8E81-94005F603228, Total Winnings: 264050, Cost: 4814.40, Final Winnings: 259235.60\n",
      "Event: 90177A76-7CB5-4825-B9C3-AB4C0C4E61D0, Total Winnings: 231350, Cost: 3671.28, Final Winnings: 227678.72\n"
     ]
    }
   ],
   "source": [
    "def print_prices(events):\n",
    "    for event in events:\n",
    "        total_winnings = get_total_winnings_for_event(event)\n",
    "        total_cost = get_total_cost_for_event(event) \n",
    "        final_winnings = get_final_winnings_for_event(event)\n",
    "\n",
    "        print(f'Event: {event[0]}, Total Winnings: {total_winnings}, Cost: {total_cost}, Final Winnings: {final_winnings}')\n",
    "print_prices(events[:10])"
   ]
  }
 ],
 "metadata": {
  "kernelspec": {
   "display_name": "Python 3",
   "language": "python",
   "name": "python3"
  },
  "language_info": {
   "codemirror_mode": {
    "name": "ipython",
    "version": 3
   },
   "file_extension": ".py",
   "mimetype": "text/x-python",
   "name": "python",
   "nbconvert_exporter": "python",
   "pygments_lexer": "ipython3",
   "version": "3.10.11"
  },
  "orig_nbformat": 4
 },
 "nbformat": 4,
 "nbformat_minor": 2
}
